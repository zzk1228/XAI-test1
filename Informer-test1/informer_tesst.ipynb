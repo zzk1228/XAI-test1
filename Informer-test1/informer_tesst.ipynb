{
 "cells": [
  {
   "cell_type": "code",
   "execution_count": 1,
   "metadata": {},
   "outputs": [
    {
     "name": "stdout",
     "output_type": "stream",
     "text": [
      "^C\n"
     ]
    }
   ],
   "source": [
    "!python main_informer.py --model informer --data MyData --seq_len 96 --label_len 48 --pred_len 24 --batch_size 32 --train_epochs 6 --learning_rate 0.0001 --use_gpu True"
   ]
  },
  {
   "cell_type": "code",
   "execution_count": 12,
   "metadata": {},
   "outputs": [
    {
     "name": "stdout",
     "output_type": "stream",
     "text": [
      "               date      acc\n",
      "0  2012/01/01 00:00 -0.38838\n",
      "1  2012/01/01 00:01 -0.27423\n",
      "2  2012/01/01 00:02 -0.18234\n",
      "3  2012/01/01 00:03 -0.07268\n",
      "4  2012/01/01 00:04  0.07190\n"
     ]
    }
   ],
   "source": [
    "import pandas as pd\n",
    "\n",
    "# 读取原始 CSV 文件\n",
    "df = pd.read_csv('noise.csv')\n",
    "\n",
    "# 假设 CSV 文件中 'date' 列存储的是时间戳\n",
    "# 设置基准时间\n",
    "base_time = pd.to_datetime('2012-01-01 00:00:00')\n",
    "\n",
    "# 将 'date' 列的时间戳转换为秒数（如果它是科学计数法，需要先转为数值）\n",
    "df['date'] = pd.to_numeric(df['date'])\n",
    "\n",
    "# 计算新时间\n",
    "df['date'] = base_time + pd.to_timedelta(df['date']*50000, unit='min')\n",
    "\n",
    "# 格式化为你需要的时间格式\n",
    "df['date'] = df['date'].dt.strftime('%Y/%m/%d %H:%M')\n",
    "\n",
    "# 输出修改后的数据到新文件\n",
    "df.to_csv('modified_file.csv', index=False)\n",
    "\n",
    "# 查看修改后的数据（可选）\n",
    "print(df.head())\n"
   ]
  },
  {
   "cell_type": "code",
   "execution_count": null,
   "metadata": {},
   "outputs": [],
   "source": []
  }
 ],
 "metadata": {
  "kernelspec": {
   "display_name": "transformers",
   "language": "python",
   "name": "python3"
  },
  "language_info": {
   "codemirror_mode": {
    "name": "ipython",
    "version": 3
   },
   "file_extension": ".py",
   "mimetype": "text/x-python",
   "name": "python",
   "nbconvert_exporter": "python",
   "pygments_lexer": "ipython3",
   "version": "3.10.16"
  }
 },
 "nbformat": 4,
 "nbformat_minor": 2
}
